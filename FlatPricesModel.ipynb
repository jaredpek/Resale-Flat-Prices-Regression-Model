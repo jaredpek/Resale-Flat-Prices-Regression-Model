{
 "cells": [
  {
   "cell_type": "markdown",
   "metadata": {},
   "source": [
    "## IMPORT TOOLS AND LIBRARIES"
   ]
  },
  {
   "cell_type": "code",
   "execution_count": 1,
   "metadata": {},
   "outputs": [],
   "source": [
    "import pandas as pd\n",
    "import numpy as np\n",
    "import matplotlib.pyplot as plt\n",
    "%matplotlib inline\n",
    "\n",
    "from sklearn.ensemble import RandomForestRegressor\n",
    "from sklearn.tree import DecisionTreeRegressor\n",
    "\n",
    "from sklearn.model_selection import train_test_split, GridSearchCV\n",
    "from sklearn.metrics import mean_absolute_error, median_absolute_error, mean_squared_error, mean_absolute_percentage_error, mean_squared_log_error, r2_score\n",
    "\n",
    "from joblib import dump, load\n",
    "\n",
    "randomseed = 15\n",
    "pd.set_option('display.width', 1000000000)"
   ]
  },
  {
   "cell_type": "markdown",
   "metadata": {},
   "source": [
    "## DATA HANDLING"
   ]
  },
  {
   "cell_type": "markdown",
   "metadata": {},
   "source": [
    "##### IMPORT DATA"
   ]
  },
  {
   "cell_type": "code",
   "execution_count": 2,
   "metadata": {},
   "outputs": [
    {
     "name": "stdout",
     "output_type": "stream",
     "text": [
      "            month           town  flat_type block          street_name storey_range  floor_area_sqm         flat_model lease_commence_date  remaining_lease  resale_price\n",
      "98183  2021-12-01        HOUGANG     5 ROOM   361        HOUGANG AVE 5     04 TO 06           123.0           Improved          1992-10-08        69.833333      612000.0\n",
      "95730  2021-09-01       CLEMENTI     2 ROOM   423       CLEMENTI AVE 1     16 TO 18            49.0            Model A          2013-10-03        91.083333      340000.0\n",
      "71327  2020-06-01        GEYLANG     2 ROOM    39           CIRCUIT RD     01 TO 03            44.0           Standard          1971-03-14        49.750000      190000.0\n",
      "79271  2020-09-01        PUNGGOL     4 ROOM  273B           PUNGGOL PL     13 TO 15            93.0  Premium Apartment          2013-07-04        91.833333      525000.0\n",
      "30204  2018-07-01     ANG MO KIO     3 ROOM   432    ANG MO KIO AVE 10     04 TO 06            67.0     New Generation          1979-02-08        59.583333      253000.0\n",
      "...           ...            ...        ...   ...                  ...          ...             ...                ...                 ...              ...           ...\n",
      "49015  2019-05-01  CHOA CHU KANG     4 ROOM   473  CHOA CHU KANG AVE 3     04 TO 06           101.0            Model A          2003-05-05        83.000000      320000.0\n",
      "68229  2020-03-01  BUKIT PANJANG     4 ROOM  550B             SEGAR RD     10 TO 12            92.0            Model A          2015-12-01        94.750000      410000.0\n",
      "8076   2017-06-01     ANG MO KIO     5 ROOM   171     ANG MO KIO AVE 4     07 TO 09           127.0           Improved          1982-01-08        63.583333      660000.0\n",
      "52981  2019-07-01  CHOA CHU KANG     4 ROOM   294  CHOA CHU KANG AVE 2     10 TO 12           104.0            Model A          1990-05-08        69.833333      344888.0\n",
      "7624   2017-05-01       TAMPINES  EXECUTIVE  230J       TAMPINES ST 21     01 TO 03           149.0          Apartment          1993-07-06        75.166667      545000.0\n",
      "\n",
      "[125464 rows x 11 columns]\n",
      "<class 'pandas.core.frame.DataFrame'>\n",
      "Int64Index: 125464 entries, 98183 to 7624\n",
      "Data columns (total 11 columns):\n",
      " #   Column               Non-Null Count   Dtype  \n",
      "---  ------               --------------   -----  \n",
      " 0   month                125464 non-null  object \n",
      " 1   town                 125464 non-null  object \n",
      " 2   flat_type            125464 non-null  object \n",
      " 3   block                125464 non-null  object \n",
      " 4   street_name          125464 non-null  object \n",
      " 5   storey_range         125464 non-null  object \n",
      " 6   floor_area_sqm       125464 non-null  float64\n",
      " 7   flat_model           125464 non-null  object \n",
      " 8   lease_commence_date  125464 non-null  object \n",
      " 9   remaining_lease      125464 non-null  float64\n",
      " 10  resale_price         125464 non-null  float64\n",
      "dtypes: float64(3), object(8)\n",
      "memory usage: 11.5+ MB\n"
     ]
    }
   ],
   "source": [
    "np.random.seed(randomseed)\n",
    "flatPrices = pd.read_csv('flat-prices-new.csv')\n",
    "flatPrices = flatPrices.drop(flatPrices.columns[0], axis=1).sample(frac=1)\n",
    "print(flatPrices)\n",
    "flatPrices.info()"
   ]
  },
  {
   "cell_type": "markdown",
   "metadata": {},
   "source": [
    "#####  CONVERT DATE COLUMNS INTO INTEGERS"
   ]
  },
  {
   "cell_type": "code",
   "execution_count": 3,
   "metadata": {},
   "outputs": [],
   "source": [
    "flatPrices['month'] = flatPrices['month'].astype(str).replace('-', '', regex=True).astype(int)\n",
    "flatPrices['lease_commence_date'] = flatPrices['lease_commence_date'].astype(str).replace('-', '', regex=True).astype(int)"
   ]
  },
  {
   "cell_type": "markdown",
   "metadata": {},
   "source": [
    "##### CONVERT DATE COLUMNS INTO INTS"
   ]
  },
  {
   "cell_type": "markdown",
   "metadata": {},
   "source": [
    "##### CONVERT CATEGORICAL COLUMNS INTO NUMBERS USING PANDAS"
   ]
  },
  {
   "cell_type": "code",
   "execution_count": 4,
   "metadata": {},
   "outputs": [],
   "source": [
    "for label, content in flatPrices.items():\n",
    "    if pd.api.types.is_string_dtype(content):\n",
    "        flatPrices[label] = content.astype('category')\n",
    "        flatPrices[label] = pd.Categorical(flatPrices[label]).codes"
   ]
  },
  {
   "cell_type": "code",
   "execution_count": 5,
   "metadata": {},
   "outputs": [
    {
     "name": "stdout",
     "output_type": "stream",
     "text": [
      "<class 'pandas.core.frame.DataFrame'>\n",
      "Int64Index: 125464 entries, 98183 to 7624\n",
      "Data columns (total 11 columns):\n",
      " #   Column               Non-Null Count   Dtype  \n",
      "---  ------               --------------   -----  \n",
      " 0   month                125464 non-null  int32  \n",
      " 1   town                 125464 non-null  int8   \n",
      " 2   flat_type            125464 non-null  int8   \n",
      " 3   block                125464 non-null  int16  \n",
      " 4   street_name          125464 non-null  int16  \n",
      " 5   storey_range         125464 non-null  int8   \n",
      " 6   floor_area_sqm       125464 non-null  float64\n",
      " 7   flat_model           125464 non-null  int8   \n",
      " 8   lease_commence_date  125464 non-null  int32  \n",
      " 9   remaining_lease      125464 non-null  float64\n",
      " 10  resale_price         125464 non-null  float64\n",
      "dtypes: float64(3), int16(2), int32(2), int8(4)\n",
      "memory usage: 5.7 MB\n"
     ]
    },
    {
     "data": {
      "text/html": [
       "<div>\n",
       "<style scoped>\n",
       "    .dataframe tbody tr th:only-of-type {\n",
       "        vertical-align: middle;\n",
       "    }\n",
       "\n",
       "    .dataframe tbody tr th {\n",
       "        vertical-align: top;\n",
       "    }\n",
       "\n",
       "    .dataframe thead th {\n",
       "        text-align: right;\n",
       "    }\n",
       "</style>\n",
       "<table border=\"1\" class=\"dataframe\">\n",
       "  <thead>\n",
       "    <tr style=\"text-align: right;\">\n",
       "      <th></th>\n",
       "      <th>month</th>\n",
       "      <th>town</th>\n",
       "      <th>flat_type</th>\n",
       "      <th>block</th>\n",
       "      <th>street_name</th>\n",
       "      <th>storey_range</th>\n",
       "      <th>floor_area_sqm</th>\n",
       "      <th>flat_model</th>\n",
       "      <th>lease_commence_date</th>\n",
       "      <th>remaining_lease</th>\n",
       "      <th>resale_price</th>\n",
       "    </tr>\n",
       "  </thead>\n",
       "  <tbody>\n",
       "    <tr>\n",
       "      <th>98183</th>\n",
       "      <td>20211201</td>\n",
       "      <td>11</td>\n",
       "      <td>4</td>\n",
       "      <td>1008</td>\n",
       "      <td>201</td>\n",
       "      <td>1</td>\n",
       "      <td>123.0</td>\n",
       "      <td>4</td>\n",
       "      <td>19921008</td>\n",
       "      <td>69.833333</td>\n",
       "      <td>612000.0</td>\n",
       "    </tr>\n",
       "    <tr>\n",
       "      <th>95730</th>\n",
       "      <td>20210901</td>\n",
       "      <td>9</td>\n",
       "      <td>1</td>\n",
       "      <td>1131</td>\n",
       "      <td>135</td>\n",
       "      <td>5</td>\n",
       "      <td>49.0</td>\n",
       "      <td>7</td>\n",
       "      <td>20131003</td>\n",
       "      <td>91.083333</td>\n",
       "      <td>340000.0</td>\n",
       "    </tr>\n",
       "    <tr>\n",
       "      <th>71327</th>\n",
       "      <td>20200601</td>\n",
       "      <td>10</td>\n",
       "      <td>1</td>\n",
       "      <td>1052</td>\n",
       "      <td>133</td>\n",
       "      <td>0</td>\n",
       "      <td>44.0</td>\n",
       "      <td>16</td>\n",
       "      <td>19710314</td>\n",
       "      <td>49.750000</td>\n",
       "      <td>190000.0</td>\n",
       "    </tr>\n",
       "    <tr>\n",
       "      <th>79271</th>\n",
       "      <td>20200901</td>\n",
       "      <td>17</td>\n",
       "      <td>3</td>\n",
       "      <td>629</td>\n",
       "      <td>357</td>\n",
       "      <td>4</td>\n",
       "      <td>93.0</td>\n",
       "      <td>12</td>\n",
       "      <td>20130704</td>\n",
       "      <td>91.833333</td>\n",
       "      <td>525000.0</td>\n",
       "    </tr>\n",
       "    <tr>\n",
       "      <th>30204</th>\n",
       "      <td>20180701</td>\n",
       "      <td>0</td>\n",
       "      <td>2</td>\n",
       "      <td>1162</td>\n",
       "      <td>13</td>\n",
       "      <td>1</td>\n",
       "      <td>67.0</td>\n",
       "      <td>11</td>\n",
       "      <td>19790208</td>\n",
       "      <td>59.583333</td>\n",
       "      <td>253000.0</td>\n",
       "    </tr>\n",
       "    <tr>\n",
       "      <th>...</th>\n",
       "      <td>...</td>\n",
       "      <td>...</td>\n",
       "      <td>...</td>\n",
       "      <td>...</td>\n",
       "      <td>...</td>\n",
       "      <td>...</td>\n",
       "      <td>...</td>\n",
       "      <td>...</td>\n",
       "      <td>...</td>\n",
       "      <td>...</td>\n",
       "      <td>...</td>\n",
       "    </tr>\n",
       "    <tr>\n",
       "      <th>49015</th>\n",
       "      <td>20190501</td>\n",
       "      <td>8</td>\n",
       "      <td>3</td>\n",
       "      <td>1293</td>\n",
       "      <td>116</td>\n",
       "      <td>1</td>\n",
       "      <td>101.0</td>\n",
       "      <td>7</td>\n",
       "      <td>20030505</td>\n",
       "      <td>83.000000</td>\n",
       "      <td>320000.0</td>\n",
       "    </tr>\n",
       "    <tr>\n",
       "      <th>68229</th>\n",
       "      <td>20200301</td>\n",
       "      <td>5</td>\n",
       "      <td>3</td>\n",
       "      <td>1575</td>\n",
       "      <td>376</td>\n",
       "      <td>3</td>\n",
       "      <td>92.0</td>\n",
       "      <td>7</td>\n",
       "      <td>20151201</td>\n",
       "      <td>94.750000</td>\n",
       "      <td>410000.0</td>\n",
       "    </tr>\n",
       "    <tr>\n",
       "      <th>8076</th>\n",
       "      <td>20170601</td>\n",
       "      <td>0</td>\n",
       "      <td>4</td>\n",
       "      <td>237</td>\n",
       "      <td>16</td>\n",
       "      <td>2</td>\n",
       "      <td>127.0</td>\n",
       "      <td>4</td>\n",
       "      <td>19820108</td>\n",
       "      <td>63.583333</td>\n",
       "      <td>660000.0</td>\n",
       "    </tr>\n",
       "    <tr>\n",
       "      <th>52981</th>\n",
       "      <td>20190701</td>\n",
       "      <td>8</td>\n",
       "      <td>3</td>\n",
       "      <td>733</td>\n",
       "      <td>115</td>\n",
       "      <td>3</td>\n",
       "      <td>104.0</td>\n",
       "      <td>7</td>\n",
       "      <td>19900508</td>\n",
       "      <td>69.833333</td>\n",
       "      <td>344888.0</td>\n",
       "    </tr>\n",
       "    <tr>\n",
       "      <th>7624</th>\n",
       "      <td>20170501</td>\n",
       "      <td>22</td>\n",
       "      <td>5</td>\n",
       "      <td>501</td>\n",
       "      <td>437</td>\n",
       "      <td>0</td>\n",
       "      <td>149.0</td>\n",
       "      <td>2</td>\n",
       "      <td>19930706</td>\n",
       "      <td>75.166667</td>\n",
       "      <td>545000.0</td>\n",
       "    </tr>\n",
       "  </tbody>\n",
       "</table>\n",
       "<p>125464 rows × 11 columns</p>\n",
       "</div>"
      ],
      "text/plain": [
       "          month  town  flat_type  block  street_name  storey_range  floor_area_sqm  flat_model  lease_commence_date  remaining_lease  resale_price\n",
       "98183  20211201    11          4   1008          201             1           123.0           4             19921008        69.833333      612000.0\n",
       "95730  20210901     9          1   1131          135             5            49.0           7             20131003        91.083333      340000.0\n",
       "71327  20200601    10          1   1052          133             0            44.0          16             19710314        49.750000      190000.0\n",
       "79271  20200901    17          3    629          357             4            93.0          12             20130704        91.833333      525000.0\n",
       "30204  20180701     0          2   1162           13             1            67.0          11             19790208        59.583333      253000.0\n",
       "...         ...   ...        ...    ...          ...           ...             ...         ...                  ...              ...           ...\n",
       "49015  20190501     8          3   1293          116             1           101.0           7             20030505        83.000000      320000.0\n",
       "68229  20200301     5          3   1575          376             3            92.0           7             20151201        94.750000      410000.0\n",
       "8076   20170601     0          4    237           16             2           127.0           4             19820108        63.583333      660000.0\n",
       "52981  20190701     8          3    733          115             3           104.0           7             19900508        69.833333      344888.0\n",
       "7624   20170501    22          5    501          437             0           149.0           2             19930706        75.166667      545000.0\n",
       "\n",
       "[125464 rows x 11 columns]"
      ]
     },
     "execution_count": 5,
     "metadata": {},
     "output_type": "execute_result"
    }
   ],
   "source": [
    "flatPrices.info()\n",
    "flatPrices"
   ]
  },
  {
   "cell_type": "markdown",
   "metadata": {},
   "source": [
    "##### SPLIT DATA INTO X AND Y, AND INTO TRAIN AND TEST SETS"
   ]
  },
  {
   "cell_type": "code",
   "execution_count": 6,
   "metadata": {},
   "outputs": [],
   "source": [
    "np.random.seed(randomseed)\n",
    "X = flatPrices.drop(['resale_price'], axis=1)\n",
    "y = flatPrices['resale_price']\n",
    "X_train, X_test, y_train, y_test = train_test_split(X, y, test_size=0.2)"
   ]
  },
  {
   "cell_type": "markdown",
   "metadata": {},
   "source": [
    "## TRAIN AND CONDUCT INITIAL MODEL TEST"
   ]
  },
  {
   "cell_type": "markdown",
   "metadata": {},
   "source": [
    "##### TRAIN RANDOMFORESTREGRESSOR MODEL"
   ]
  },
  {
   "cell_type": "code",
   "execution_count": 7,
   "metadata": {},
   "outputs": [
    {
     "name": "stdout",
     "output_type": "stream",
     "text": [
      "                         RandomForestRegressor\n",
      "bootstrap                                 True\n",
      "ccp_alpha                                  0.0\n",
      "criterion                        squared_error\n",
      "max_depth                                 None\n",
      "max_features                              auto\n",
      "max_leaf_nodes                            None\n",
      "max_samples                               None\n",
      "min_impurity_decrease                      0.0\n",
      "min_samples_leaf                             1\n",
      "min_samples_split                            2\n",
      "min_weight_fraction_leaf                   0.0\n",
      "n_estimators                               100\n",
      "n_jobs                                      -1\n",
      "oob_score                                False\n",
      "random_state                                15\n",
      "verbose                                      0\n",
      "warm_start                               False\n"
     ]
    },
    {
     "data": {
      "text/plain": [
       "RandomForestRegressor(n_jobs=-1, random_state=15)"
      ]
     },
     "execution_count": 7,
     "metadata": {},
     "output_type": "execute_result"
    }
   ],
   "source": [
    "randForReg = RandomForestRegressor(n_jobs=-1, random_state=randomseed)\n",
    "randForInitialParams = randForReg.get_params()\n",
    "print(pd.DataFrame(randForInitialParams, index=['RandomForestRegressor']).transpose())\n",
    "randForReg.fit(X_train, y_train)"
   ]
  },
  {
   "cell_type": "markdown",
   "metadata": {},
   "source": [
    "#####  TRAIN DECISIONTREEREGRESSOR MODEL"
   ]
  },
  {
   "cell_type": "code",
   "execution_count": 8,
   "metadata": {},
   "outputs": [
    {
     "name": "stdout",
     "output_type": "stream",
     "text": [
      "                         DecisionTreeRegressor\n",
      "ccp_alpha                                  0.0\n",
      "criterion                        squared_error\n",
      "max_depth                                 None\n",
      "max_features                              None\n",
      "max_leaf_nodes                            None\n",
      "min_impurity_decrease                      0.0\n",
      "min_samples_leaf                             1\n",
      "min_samples_split                            2\n",
      "min_weight_fraction_leaf                   0.0\n",
      "random_state                                15\n",
      "splitter                                  best\n"
     ]
    },
    {
     "data": {
      "text/plain": [
       "DecisionTreeRegressor(random_state=15)"
      ]
     },
     "execution_count": 8,
     "metadata": {},
     "output_type": "execute_result"
    }
   ],
   "source": [
    "decTreeReg = DecisionTreeRegressor(random_state=randomseed)\n",
    "decTreeInitialParams = decTreeReg.get_params()\n",
    "print(pd.DataFrame(decTreeInitialParams, index=['DecisionTreeRegressor']).transpose())\n",
    "decTreeReg.fit(X_train, y_train)"
   ]
  },
  {
   "cell_type": "markdown",
   "metadata": {},
   "source": [
    "##### INITIALISE MODELS AND CONDUCT INITIAL TEST"
   ]
  },
  {
   "cell_type": "code",
   "execution_count": 9,
   "metadata": {},
   "outputs": [
    {
     "name": "stdout",
     "output_type": "stream",
     "text": [
      "Testing RandomForestRegressor Model...\n",
      "Testing DecisionTreeRegressor Model...\n"
     ]
    }
   ],
   "source": [
    "initial_models = {'RandomForestRegressor': randForReg,\n",
    "                  'DecisionTreeRegressor': decTreeReg}\n",
    "\n",
    "def evaluate_models(models, xtest, ytest):\n",
    "    mean_abs_err = {}\n",
    "    med_abs_err = {}\n",
    "    root_mean_sqr_err = {}\n",
    "    mean_abs_perc_err = {}\n",
    "    mean_sqr_log_err = {}\n",
    "    r2_scr = {}\n",
    "\n",
    "    for name, model in models.items():\n",
    "        print(f'Testing {name} Model...')\n",
    "        ypred = model.predict(xtest)\n",
    "\n",
    "        mean_abs_err[name] = mean_absolute_error(ytest, ypred)\n",
    "        med_abs_err[name] = median_absolute_error(ytest, ypred)\n",
    "        root_mean_sqr_err[name] = (mean_squared_error(ytest, ypred)) ** 0.5\n",
    "        mean_abs_perc_err[name] = mean_absolute_percentage_error(ytest, ypred)\n",
    "        mean_sqr_log_err[name] = mean_squared_log_error(ytest, ypred)\n",
    "        r2_scr[name] = r2_score(ytest, ypred)\n",
    "    \n",
    "    return [mean_abs_err, med_abs_err, root_mean_sqr_err, mean_abs_perc_err, mean_sqr_log_err, r2_scr]\n",
    "\n",
    "initial_results = evaluate_models(initial_models, X_test, y_test)"
   ]
  },
  {
   "cell_type": "markdown",
   "metadata": {},
   "source": [
    "##### VISUALISE AND COMPARE INITIAL TEST RESULTS"
   ]
  },
  {
   "cell_type": "code",
   "execution_count": 10,
   "metadata": {},
   "outputs": [
    {
     "name": "stdout",
     "output_type": "stream",
     "text": [
      "Initial Test Results\n",
      "                                RandomForestRegressor  DecisionTreeRegressor\n",
      "Mean Absolute Error                      20613.660897           27854.505099\n",
      "Median Absolute Error                    14129.373333           19112.000000\n",
      "Root Mean Squared Error                  31398.418757           44238.293578\n",
      "Mean Absolute Percentage Error               0.044828               0.060555\n",
      "Mean Squared Log Error                       0.004019               0.007827\n",
      "R2 Score                                     0.961582               0.923737\n"
     ]
    },
    {
     "data": {
      "image/png": "[encoded data removed]",
      "text/plain": [
       "<Figure size 1440x576 with 1 Axes>"
      ]
     },
     "metadata": {
      "needs_background": "light"
     },
     "output_type": "display_data"
    }
   ],
   "source": [
    "def visualise_results(results):\n",
    "    results = pd.DataFrame(results, index=['Mean Absolute Error', 'Median Absolute Error', 'Root Mean Squared Error', 'Mean Absolute Percentage Error', 'Mean Squared Log Error', 'R2 Score'])\n",
    "    print(results)\n",
    "    error_results_bar = results[:3].plot.bar(figsize=(20, 8), xlabel='Evaluation Metric', ylabel='Error Value', title='Model Results')\n",
    "    error_results_bar.legend(title='Model Type', bbox_to_anchor=(1.01, 1));\n",
    "\n",
    "print('Initial Test Results')\n",
    "visualise_results(initial_results)"
   ]
  },
  {
   "cell_type": "markdown",
   "metadata": {},
   "source": [
    "## MODEL TUNING AND IMPROVEMENT"
   ]
  },
  {
   "cell_type": "markdown",
   "metadata": {},
   "source": [
    "##### TUNE AND TRAIN RANDOMFORESTREGRESSOR"
   ]
  },
  {
   "cell_type": "code",
   "execution_count": null,
   "metadata": {},
   "outputs": [],
   "source": [
    "gs_randForest_grid = {'n_estimators': [500, 600, 700, 800, 900],\n",
    "                      'max_features': ['auto', 'sqrt'],\n",
    "                      'max_depth': [35, 39, 45],\n",
    "                      'min_samples_split': [2, 3, 4],\n",
    "                      'min_samples_leaf': [1, 3, 5],\n",
    "                      'bootstrap': [True, False]}\n",
    "gs_randForest = GridSearchCV(estimator=initial_models['RandomForestRegressor'],\n",
    "                             param_grid=gs_randForest_grid,\n",
    "                             cv=5,\n",
    "                             verbose=2)\n",
    "gs_randForest.fit(X_train, y_train)"
   ]
  },
  {
   "cell_type": "markdown",
   "metadata": {},
   "source": [
    "##### SHOW BEST PARAMETERS FOR RANDOMFORESTREGRESSOR MODEL"
   ]
  },
  {
   "cell_type": "code",
   "execution_count": 12,
   "metadata": {},
   "outputs": [
    {
     "name": "stdout",
     "output_type": "stream",
     "text": [
      "                  RandomForestRegressor\n",
      "bootstrap                          True\n",
      "max_depth                            39\n",
      "max_features                       auto\n",
      "min_samples_leaf                      1\n",
      "min_samples_split                     2\n",
      "n_estimators                        700\n"
     ]
    }
   ],
   "source": [
    "randForBestParams = gs_randForest.best_params_\n",
    "print(pd.DataFrame(randForBestParams, index=['RandomForestRegressor']).transpose())"
   ]
  },
  {
   "cell_type": "markdown",
   "metadata": {},
   "source": [
    "##### TUNE AND TRAIN DECISIONTREEREGRESSOR"
   ]
  },
  {
   "cell_type": "code",
   "execution_count": null,
   "metadata": {},
   "outputs": [],
   "source": [
    "gs_decTreeReg_grid={\"splitter\": [\"best\", \"random\"],\n",
    "                    \"max_depth\" : [None, 1, 3, 5],\n",
    "                    \"min_samples_leaf\": [1, 3, 5, 7],\n",
    "                    \"min_weight_fraction_leaf\": [0.0001, 0.000013, 0.00017],\n",
    "                    \"max_features\": [\"auto\", \"sqrt\"],\n",
    "                    \"max_leaf_nodes\": [None, 10, 40, 80]}\n",
    "gs_decTreeReg = GridSearchCV(estimator=initial_models['DecisionTreeRegressor'],\n",
    "                             param_grid=gs_decTreeReg_grid,\n",
    "                             cv=5,\n",
    "                             verbose=2)\n",
    "gs_decTreeReg.fit(X_train, y_train)"
   ]
  },
  {
   "cell_type": "markdown",
   "metadata": {},
   "source": [
    "##### SHOW BEST PARAMETERS FOR DECISIONTREEREGRESSOR"
   ]
  },
  {
   "cell_type": "code",
   "execution_count": 14,
   "metadata": {},
   "outputs": [
    {
     "name": "stdout",
     "output_type": "stream",
     "text": [
      "                         DecisionTreeRegressor\n",
      "max_depth                                 None\n",
      "max_features                              auto\n",
      "max_leaf_nodes                            None\n",
      "min_samples_leaf                             1\n",
      "min_weight_fraction_leaf              0.000013\n",
      "splitter                                  best\n"
     ]
    }
   ],
   "source": [
    "decTreeBestParams = gs_decTreeReg.best_params_\n",
    "print(pd.DataFrame(decTreeBestParams, index=['DecisionTreeRegressor']).transpose())"
   ]
  },
  {
   "cell_type": "markdown",
   "metadata": {},
   "source": [
    "##### INITIALISE AND TEST TUNED MODELS"
   ]
  },
  {
   "cell_type": "code",
   "execution_count": 15,
   "metadata": {},
   "outputs": [
    {
     "name": "stdout",
     "output_type": "stream",
     "text": [
      "Testing RandomForestRegressor Model...\n",
      "Testing DecisionTreeRegressor Model...\n"
     ]
    }
   ],
   "source": [
    "tuned_models = {'RandomForestRegressor': gs_randForest,\n",
    "                'DecisionTreeRegressor': gs_decTreeReg}\n",
    "\n",
    "tuned_results = evaluate_models(tuned_models, X_test, y_test)"
   ]
  },
  {
   "cell_type": "markdown",
   "metadata": {},
   "source": [
    "##### VISUALISE TUNED MODEL RESULTS"
   ]
  },
  {
   "cell_type": "code",
   "execution_count": 16,
   "metadata": {},
   "outputs": [
    {
     "name": "stdout",
     "output_type": "stream",
     "text": [
      "Tuned Test Results\n",
      "                                RandomForestRegressor  DecisionTreeRegressor\n",
      "Mean Absolute Error                      20510.187636           26677.326188\n",
      "Median Absolute Error                    14141.569016           17666.666667\n",
      "Root Mean Squared Error                  31251.613185           41680.608863\n",
      "Mean Absolute Percentage Error               0.044608               0.057893\n",
      "Mean Squared Log Error                       0.003975               0.006972\n",
      "R2 Score                                     0.961941               0.932301\n"
     ]
    },
    {
     "data": {
      "image/png": "[encoded data removed]",
      "text/plain": [
       "<Figure size 1440x576 with 1 Axes>"
      ]
     },
     "metadata": {
      "needs_background": "light"
     },
     "output_type": "display_data"
    }
   ],
   "source": [
    "print('Tuned Test Results')\n",
    "visualise_results(tuned_results)"
   ]
  },
  {
   "cell_type": "markdown",
   "metadata": {},
   "source": [
    "## MODEL EVALUATION\n",
    "- RANDOMFORESTREGRESSOR OUTPERFORMS DECISIONTREEREGRESSOR AFTER TUNING, HENCE RANDOMFORESTREGRESSOR WILL BE FAVOURED OVER DECISIONTREEREGRESSOR"
   ]
  },
  {
   "cell_type": "markdown",
   "metadata": {},
   "source": [
    "##### FEATURE IMPORTANCE"
   ]
  },
  {
   "cell_type": "code",
   "execution_count": 17,
   "metadata": {},
   "outputs": [
    {
     "data": {
      "text/html": [
       "<div>\n",
       "<style scoped>\n",
       "    .dataframe tbody tr th:only-of-type {\n",
       "        vertical-align: middle;\n",
       "    }\n",
       "\n",
       "    .dataframe tbody tr th {\n",
       "        vertical-align: top;\n",
       "    }\n",
       "\n",
       "    .dataframe thead th {\n",
       "        text-align: right;\n",
       "    }\n",
       "</style>\n",
       "<table border=\"1\" class=\"dataframe\">\n",
       "  <thead>\n",
       "    <tr style=\"text-align: right;\">\n",
       "      <th></th>\n",
       "      <th>RandomForestRegressor</th>\n",
       "    </tr>\n",
       "  </thead>\n",
       "  <tbody>\n",
       "    <tr>\n",
       "      <th>remaining_lease</th>\n",
       "      <td>0.013565</td>\n",
       "    </tr>\n",
       "    <tr>\n",
       "      <th>flat_type</th>\n",
       "      <td>0.028148</td>\n",
       "    </tr>\n",
       "    <tr>\n",
       "      <th>month</th>\n",
       "      <td>0.041736</td>\n",
       "    </tr>\n",
       "    <tr>\n",
       "      <th>block</th>\n",
       "      <td>0.042517</td>\n",
       "    </tr>\n",
       "    <tr>\n",
       "      <th>flat_model</th>\n",
       "      <td>0.043068</td>\n",
       "    </tr>\n",
       "    <tr>\n",
       "      <th>street_name</th>\n",
       "      <td>0.056779</td>\n",
       "    </tr>\n",
       "    <tr>\n",
       "      <th>lease_commence_date</th>\n",
       "      <td>0.099202</td>\n",
       "    </tr>\n",
       "    <tr>\n",
       "      <th>town</th>\n",
       "      <td>0.125446</td>\n",
       "    </tr>\n",
       "    <tr>\n",
       "      <th>storey_range</th>\n",
       "      <td>0.125484</td>\n",
       "    </tr>\n",
       "    <tr>\n",
       "      <th>floor_area_sqm</th>\n",
       "      <td>0.424054</td>\n",
       "    </tr>\n",
       "  </tbody>\n",
       "</table>\n",
       "</div>"
      ],
      "text/plain": [
       "                     RandomForestRegressor\n",
       "remaining_lease                   0.013565\n",
       "flat_type                         0.028148\n",
       "month                             0.041736\n",
       "block                             0.042517\n",
       "flat_model                        0.043068\n",
       "street_name                       0.056779\n",
       "lease_commence_date               0.099202\n",
       "town                              0.125446\n",
       "storey_range                      0.125484\n",
       "floor_area_sqm                    0.424054"
      ]
     },
     "execution_count": 17,
     "metadata": {},
     "output_type": "execute_result"
    },
    {
     "data": {
      "image/png": "[encoded data removed]",
      "text/plain": [
       "<Figure size 1440x576 with 1 Axes>"
      ]
     },
     "metadata": {
      "needs_background": "light"
     },
     "output_type": "display_data"
    }
   ],
   "source": [
    "featImptData = {'RandomForestRegressor': initial_models['RandomForestRegressor'].feature_importances_,}\n",
    "featImptFig, featImptAx = plt.subplots(figsize=(20, 8))\n",
    "featImpt = pd.DataFrame(featImptData, index=list(X.columns)).sort_values('RandomForestRegressor')\n",
    "featImpt.plot.barh(ax=featImptAx)\n",
    "featImptAx.set(xlabel='Feature Importance', ylabel='Data Feature', title='Important Features of FlatPrices Data using RandomForestRegressor');\n",
    "featImpt"
   ]
  },
  {
   "cell_type": "markdown",
   "metadata": {},
   "source": [
    "## SAVE AND LOAD MODEL"
   ]
  },
  {
   "cell_type": "markdown",
   "metadata": {},
   "source": [
    "##### SAVE MODEL"
   ]
  },
  {
   "cell_type": "code",
   "execution_count": 18,
   "metadata": {},
   "outputs": [
    {
     "data": {
      "text/plain": [
       "['FlatPricesModel.joblib']"
      ]
     },
     "execution_count": 18,
     "metadata": {},
     "output_type": "execute_result"
    }
   ],
   "source": [
    "dump(gs_randForest, filename='FlatPricesModel.joblib')"
   ]
  },
  {
   "cell_type": "markdown",
   "metadata": {},
   "source": [
    "##### LOAD MODEL AND ENSURE SUCCESSFUL LOADING OF MODEL"
   ]
  },
  {
   "cell_type": "code",
   "execution_count": 19,
   "metadata": {},
   "outputs": [
    {
     "name": "stdout",
     "output_type": "stream",
     "text": [
      "Testing FlatPricesModel Model...\n",
      "                                FlatPricesModel\n",
      "Mean Absolute Error                20510.187636\n",
      "Median Absolute Error              14141.569016\n",
      "Root Mean Squared Error            31251.613185\n",
      "Mean Absolute Percentage Error         0.044608\n",
      "Mean Squared Log Error                 0.003975\n",
      "R2 Score                               0.961941\n"
     ]
    },
    {
     "data": {
      "image/png": "[encoded data removed]",
      "text/plain": [
       "<Figure size 1440x576 with 1 Axes>"
      ]
     },
     "metadata": {
      "needs_background": "light"
     },
     "output_type": "display_data"
    }
   ],
   "source": [
    "flatPricesModel = load(filename='FlatPricesModel.joblib')\n",
    "loaded_model = {'FlatPricesModel': flatPricesModel}\n",
    "loadedModelResults = evaluate_models(loaded_model, X_test, y_test)\n",
    "visualise_results(loadedModelResults)"
   ]
  }
 ],
 "metadata": {
  "interpreter": {
   "hash": "4e06b8d4eff00d7d2df7032b1ea559d9e0034f5fd556769de87b5beeef73753e"
  },
  "kernelspec": {
   "display_name": "Python 3.9.2 ('venv': venv)",
   "language": "python",
   "name": "python3"
  },
  "language_info": {
   "codemirror_mode": {
    "name": "ipython",
    "version": 3
   },
   "file_extension": ".py",
   "mimetype": "text/x-python",
   "name": "python",
   "nbconvert_exporter": "python",
   "pygments_lexer": "ipython3",
   "version": "3.9.2"
  },
  "orig_nbformat": 4
 },
 "nbformat": 4,
 "nbformat_minor": 2
}
