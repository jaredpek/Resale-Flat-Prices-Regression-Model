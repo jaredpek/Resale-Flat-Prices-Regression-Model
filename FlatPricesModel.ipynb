{
 "cells": [
  {
   "cell_type": "markdown",
   "metadata": {},
   "source": [
    "## IMPORT TOOLS AND LIBRARIES"
   ]
  },
  {
   "cell_type": "code",
   "execution_count": 1,
   "metadata": {},
   "outputs": [],
   "source": [
    "import pandas as pd\n",
    "import matplotlib.pyplot as plt\n",
    "%matplotlib inline\n",
    "\n",
    "from sklearn.ensemble import RandomForestRegressor\n",
    "from sklearn.tree import DecisionTreeRegressor\n",
    "\n",
    "from sklearn.model_selection import GridSearchCV\n",
    "from sklearn.metrics import mean_absolute_error, median_absolute_error, mean_squared_error, mean_absolute_percentage_error, mean_squared_log_error, r2_score\n",
    "\n",
    "from joblib import dump, load\n",
    "\n",
    "randomseed = 15\n",
    "pd.set_option('display.width', 1000000000)"
   ]
  },
  {
   "cell_type": "markdown",
   "metadata": {},
   "source": [
    "## DATA HANDLING"
   ]
  },
  {
   "cell_type": "markdown",
   "metadata": {},
   "source": [
    "##### IMPORT DATA"
   ]
  },
  {
   "cell_type": "code",
   "execution_count": 2,
   "metadata": {},
   "outputs": [
    {
     "name": "stdout",
     "output_type": "stream",
     "text": [
      "             month        town         flat_type block        street_name storey_range  floor_area_sqm        flat_model lease_commence_date  remaining_lease  resale_price\n",
      "0       2017-01-01  ANG MO KIO            2 ROOM   406  ANG MO KIO AVE 10     10 TO 12            44.0          Improved          1979-05-12        61.333333      232000.0\n",
      "1       2017-01-01  ANG MO KIO            3 ROOM   108   ANG MO KIO AVE 4     01 TO 03            67.0    New Generation          1978-08-11        60.583333      250000.0\n",
      "2       2017-01-01  ANG MO KIO            3 ROOM   602   ANG MO KIO AVE 5     01 TO 03            67.0    New Generation          1980-06-11        62.416667      262000.0\n",
      "3       2017-01-01  ANG MO KIO            3 ROOM   465  ANG MO KIO AVE 10     04 TO 06            68.0    New Generation          1980-02-10        62.083333      265000.0\n",
      "4       2017-01-01  ANG MO KIO            3 ROOM   601   ANG MO KIO AVE 5     01 TO 03            67.0    New Generation          1980-06-11        62.416667      265000.0\n",
      "...            ...         ...               ...   ...                ...          ...             ...               ...                 ...              ...           ...\n",
      "125459  2022-04-01      YISHUN         EXECUTIVE   826       YISHUN ST 81     01 TO 03           142.0         Apartment          1988-02-08        64.833333      739388.0\n",
      "125460  2022-04-01      YISHUN         EXECUTIVE   836       YISHUN ST 81     07 TO 09           142.0         Apartment          1988-03-09        64.916667      773000.0\n",
      "125461  2022-01-01      YISHUN  MULTI-GENERATION   633       YISHUN ST 61     04 TO 06           164.0  Multi Generation          1987-01-10        64.000000      785000.0\n",
      "125462  2022-02-01      YISHUN  MULTI-GENERATION   633       YISHUN ST 61     04 TO 06           171.0  Multi Generation          1988-01-10        64.916667      842000.0\n",
      "125463  2022-02-01      YISHUN  MULTI-GENERATION   632       YISHUN ST 61     10 TO 12           164.0  Multi Generation          1987-11-10        64.750000      845000.0\n",
      "\n",
      "[125464 rows x 11 columns]\n",
      "<class 'pandas.core.frame.DataFrame'>\n",
      "RangeIndex: 125464 entries, 0 to 125463\n",
      "Data columns (total 11 columns):\n",
      " #   Column               Non-Null Count   Dtype  \n",
      "---  ------               --------------   -----  \n",
      " 0   month                125464 non-null  object \n",
      " 1   town                 125464 non-null  object \n",
      " 2   flat_type            125464 non-null  object \n",
      " 3   block                125464 non-null  object \n",
      " 4   street_name          125464 non-null  object \n",
      " 5   storey_range         125464 non-null  object \n",
      " 6   floor_area_sqm       125464 non-null  float64\n",
      " 7   flat_model           125464 non-null  object \n",
      " 8   lease_commence_date  125464 non-null  object \n",
      " 9   remaining_lease      125464 non-null  float64\n",
      " 10  resale_price         125464 non-null  float64\n",
      "dtypes: float64(3), object(8)\n",
      "memory usage: 10.5+ MB\n"
     ]
    }
   ],
   "source": [
    "flatPrices = pd.read_csv('flat-prices-new.csv')\n",
    "flatPrices = flatPrices.drop([flatPrices.columns[0]], axis=1)\n",
    "print(flatPrices)\n",
    "flatPrices.info()"
   ]
  },
  {
   "cell_type": "markdown",
   "metadata": {},
   "source": [
    "#####  CONVERT DATE COLUMNS INTO INTEGERS"
   ]
  },
  {
   "cell_type": "code",
   "execution_count": 3,
   "metadata": {},
   "outputs": [],
   "source": [
    "flatPrices['month'] = flatPrices['month'].astype(str).replace('-', '', regex=True).astype(int)\n",
    "flatPrices['lease_commence_date'] = flatPrices['lease_commence_date'].astype(str).replace('-', '', regex=True).astype(int)"
   ]
  },
  {
   "cell_type": "markdown",
   "metadata": {},
   "source": [
    "##### CONVERT CATEGORICAL COLUMNS INTO NUMBERS USING PANDAS"
   ]
  },
  {
   "cell_type": "code",
   "execution_count": 4,
   "metadata": {},
   "outputs": [],
   "source": [
    "for label, content in flatPrices.items():\n",
    "    if pd.api.types.is_string_dtype(content):\n",
    "        flatPrices[label] = content.astype('category')\n",
    "        flatPrices[label] = pd.Categorical(flatPrices[label]).codes"
   ]
  },
  {
   "cell_type": "code",
   "execution_count": 5,
   "metadata": {},
   "outputs": [
    {
     "name": "stdout",
     "output_type": "stream",
     "text": [
      "<class 'pandas.core.frame.DataFrame'>\n",
      "RangeIndex: 125464 entries, 0 to 125463\n",
      "Data columns (total 11 columns):\n",
      " #   Column               Non-Null Count   Dtype  \n",
      "---  ------               --------------   -----  \n",
      " 0   month                125464 non-null  int32  \n",
      " 1   town                 125464 non-null  int8   \n",
      " 2   flat_type            125464 non-null  int8   \n",
      " 3   block                125464 non-null  int16  \n",
      " 4   street_name          125464 non-null  int16  \n",
      " 5   storey_range         125464 non-null  int8   \n",
      " 6   floor_area_sqm       125464 non-null  float64\n",
      " 7   flat_model           125464 non-null  int8   \n",
      " 8   lease_commence_date  125464 non-null  int32  \n",
      " 9   remaining_lease      125464 non-null  float64\n",
      " 10  resale_price         125464 non-null  float64\n",
      "dtypes: float64(3), int16(2), int32(2), int8(4)\n",
      "memory usage: 4.8 MB\n"
     ]
    },
    {
     "data": {
      "text/html": [
       "<div>\n",
       "<style scoped>\n",
       "    .dataframe tbody tr th:only-of-type {\n",
       "        vertical-align: middle;\n",
       "    }\n",
       "\n",
       "    .dataframe tbody tr th {\n",
       "        vertical-align: top;\n",
       "    }\n",
       "\n",
       "    .dataframe thead th {\n",
       "        text-align: right;\n",
       "    }\n",
       "</style>\n",
       "<table border=\"1\" class=\"dataframe\">\n",
       "  <thead>\n",
       "    <tr style=\"text-align: right;\">\n",
       "      <th></th>\n",
       "      <th>month</th>\n",
       "      <th>town</th>\n",
       "      <th>flat_type</th>\n",
       "      <th>block</th>\n",
       "      <th>street_name</th>\n",
       "      <th>storey_range</th>\n",
       "      <th>floor_area_sqm</th>\n",
       "      <th>flat_model</th>\n",
       "      <th>lease_commence_date</th>\n",
       "      <th>remaining_lease</th>\n",
       "      <th>resale_price</th>\n",
       "    </tr>\n",
       "  </thead>\n",
       "  <tbody>\n",
       "    <tr>\n",
       "      <th>0</th>\n",
       "      <td>20170101</td>\n",
       "      <td>0</td>\n",
       "      <td>1</td>\n",
       "      <td>1084</td>\n",
       "      <td>13</td>\n",
       "      <td>3</td>\n",
       "      <td>44.0</td>\n",
       "      <td>4</td>\n",
       "      <td>19790512</td>\n",
       "      <td>61.333333</td>\n",
       "      <td>232000.0</td>\n",
       "    </tr>\n",
       "    <tr>\n",
       "      <th>1</th>\n",
       "      <td>20170101</td>\n",
       "      <td>0</td>\n",
       "      <td>2</td>\n",
       "      <td>35</td>\n",
       "      <td>16</td>\n",
       "      <td>0</td>\n",
       "      <td>67.0</td>\n",
       "      <td>11</td>\n",
       "      <td>19780811</td>\n",
       "      <td>60.583333</td>\n",
       "      <td>250000.0</td>\n",
       "    </tr>\n",
       "    <tr>\n",
       "      <th>2</th>\n",
       "      <td>20170101</td>\n",
       "      <td>0</td>\n",
       "      <td>2</td>\n",
       "      <td>1662</td>\n",
       "      <td>17</td>\n",
       "      <td>0</td>\n",
       "      <td>67.0</td>\n",
       "      <td>11</td>\n",
       "      <td>19800611</td>\n",
       "      <td>62.416667</td>\n",
       "      <td>262000.0</td>\n",
       "    </tr>\n",
       "    <tr>\n",
       "      <th>3</th>\n",
       "      <td>20170101</td>\n",
       "      <td>0</td>\n",
       "      <td>2</td>\n",
       "      <td>1262</td>\n",
       "      <td>13</td>\n",
       "      <td>1</td>\n",
       "      <td>68.0</td>\n",
       "      <td>11</td>\n",
       "      <td>19800210</td>\n",
       "      <td>62.083333</td>\n",
       "      <td>265000.0</td>\n",
       "    </tr>\n",
       "    <tr>\n",
       "      <th>4</th>\n",
       "      <td>20170101</td>\n",
       "      <td>0</td>\n",
       "      <td>2</td>\n",
       "      <td>1657</td>\n",
       "      <td>17</td>\n",
       "      <td>0</td>\n",
       "      <td>67.0</td>\n",
       "      <td>11</td>\n",
       "      <td>19800611</td>\n",
       "      <td>62.416667</td>\n",
       "      <td>265000.0</td>\n",
       "    </tr>\n",
       "    <tr>\n",
       "      <th>...</th>\n",
       "      <td>...</td>\n",
       "      <td>...</td>\n",
       "      <td>...</td>\n",
       "      <td>...</td>\n",
       "      <td>...</td>\n",
       "      <td>...</td>\n",
       "      <td>...</td>\n",
       "      <td>...</td>\n",
       "      <td>...</td>\n",
       "      <td>...</td>\n",
       "      <td>...</td>\n",
       "    </tr>\n",
       "    <tr>\n",
       "      <th>125459</th>\n",
       "      <td>20220401</td>\n",
       "      <td>25</td>\n",
       "      <td>5</td>\n",
       "      <td>2269</td>\n",
       "      <td>549</td>\n",
       "      <td>0</td>\n",
       "      <td>142.0</td>\n",
       "      <td>2</td>\n",
       "      <td>19880208</td>\n",
       "      <td>64.833333</td>\n",
       "      <td>739388.0</td>\n",
       "    </tr>\n",
       "    <tr>\n",
       "      <th>125460</th>\n",
       "      <td>20220401</td>\n",
       "      <td>25</td>\n",
       "      <td>5</td>\n",
       "      <td>2284</td>\n",
       "      <td>549</td>\n",
       "      <td>2</td>\n",
       "      <td>142.0</td>\n",
       "      <td>2</td>\n",
       "      <td>19880309</td>\n",
       "      <td>64.916667</td>\n",
       "      <td>773000.0</td>\n",
       "    </tr>\n",
       "    <tr>\n",
       "      <th>125461</th>\n",
       "      <td>20220101</td>\n",
       "      <td>25</td>\n",
       "      <td>6</td>\n",
       "      <td>1751</td>\n",
       "      <td>546</td>\n",
       "      <td>1</td>\n",
       "      <td>164.0</td>\n",
       "      <td>10</td>\n",
       "      <td>19870110</td>\n",
       "      <td>64.000000</td>\n",
       "      <td>785000.0</td>\n",
       "    </tr>\n",
       "    <tr>\n",
       "      <th>125462</th>\n",
       "      <td>20220201</td>\n",
       "      <td>25</td>\n",
       "      <td>6</td>\n",
       "      <td>1751</td>\n",
       "      <td>546</td>\n",
       "      <td>1</td>\n",
       "      <td>171.0</td>\n",
       "      <td>10</td>\n",
       "      <td>19880110</td>\n",
       "      <td>64.916667</td>\n",
       "      <td>842000.0</td>\n",
       "    </tr>\n",
       "    <tr>\n",
       "      <th>125463</th>\n",
       "      <td>20220201</td>\n",
       "      <td>25</td>\n",
       "      <td>6</td>\n",
       "      <td>1747</td>\n",
       "      <td>546</td>\n",
       "      <td>3</td>\n",
       "      <td>164.0</td>\n",
       "      <td>10</td>\n",
       "      <td>19871110</td>\n",
       "      <td>64.750000</td>\n",
       "      <td>845000.0</td>\n",
       "    </tr>\n",
       "  </tbody>\n",
       "</table>\n",
       "<p>125464 rows × 11 columns</p>\n",
       "</div>"
      ],
      "text/plain": [
       "           month  town  flat_type  block  street_name  storey_range  floor_area_sqm  flat_model  lease_commence_date  remaining_lease  resale_price\n",
       "0       20170101     0          1   1084           13             3            44.0           4             19790512        61.333333      232000.0\n",
       "1       20170101     0          2     35           16             0            67.0          11             19780811        60.583333      250000.0\n",
       "2       20170101     0          2   1662           17             0            67.0          11             19800611        62.416667      262000.0\n",
       "3       20170101     0          2   1262           13             1            68.0          11             19800210        62.083333      265000.0\n",
       "4       20170101     0          2   1657           17             0            67.0          11             19800611        62.416667      265000.0\n",
       "...          ...   ...        ...    ...          ...           ...             ...         ...                  ...              ...           ...\n",
       "125459  20220401    25          5   2269          549             0           142.0           2             19880208        64.833333      739388.0\n",
       "125460  20220401    25          5   2284          549             2           142.0           2             19880309        64.916667      773000.0\n",
       "125461  20220101    25          6   1751          546             1           164.0          10             19870110        64.000000      785000.0\n",
       "125462  20220201    25          6   1751          546             1           171.0          10             19880110        64.916667      842000.0\n",
       "125463  20220201    25          6   1747          546             3           164.0          10             19871110        64.750000      845000.0\n",
       "\n",
       "[125464 rows x 11 columns]"
      ]
     },
     "execution_count": 5,
     "metadata": {},
     "output_type": "execute_result"
    }
   ],
   "source": [
    "flatPrices.info()\n",
    "flatPrices"
   ]
  },
  {
   "cell_type": "markdown",
   "metadata": {},
   "source": [
    "##### SPLIT DATA INTO INTO TRAIN, VALIDATION AND TEST SETS"
   ]
  },
  {
   "cell_type": "code",
   "execution_count": 6,
   "metadata": {},
   "outputs": [],
   "source": [
    "train_end = int(len(flatPrices) * 0.7)\n",
    "valid_end = int(len(flatPrices) * 0.85)\n",
    "\n",
    "X_train, y_train = flatPrices[:train_end].drop('resale_price', axis=1), flatPrices[:train_end]['resale_price']\n",
    "X_valid, y_valid = flatPrices[train_end:valid_end].drop('resale_price', axis=1), flatPrices[train_end:valid_end]['resale_price']\n",
    "X_test, y_test = flatPrices[valid_end:].drop('resale_price', axis=1), flatPrices[valid_end:]['resale_price']"
   ]
  },
  {
   "cell_type": "markdown",
   "metadata": {},
   "source": [
    "## TRAIN AND CONDUCT INITIAL MODEL TEST"
   ]
  },
  {
   "cell_type": "markdown",
   "metadata": {},
   "source": [
    "##### TRAIN RANDOMFORESTREGRESSOR MODEL"
   ]
  },
  {
   "cell_type": "code",
   "execution_count": 7,
   "metadata": {},
   "outputs": [
    {
     "name": "stdout",
     "output_type": "stream",
     "text": [
      "                         RandomForestRegressor\n",
      "bootstrap                                 True\n",
      "ccp_alpha                                  0.0\n",
      "criterion                        squared_error\n",
      "max_depth                                 None\n",
      "max_features                              auto\n",
      "max_leaf_nodes                            None\n",
      "max_samples                               None\n",
      "min_impurity_decrease                      0.0\n",
      "min_samples_leaf                             1\n",
      "min_samples_split                            2\n",
      "min_weight_fraction_leaf                   0.0\n",
      "n_estimators                               100\n",
      "n_jobs                                      -1\n",
      "oob_score                                False\n",
      "random_state                                15\n",
      "verbose                                      0\n",
      "warm_start                               False\n"
     ]
    },
    {
     "data": {
      "text/plain": [
       "RandomForestRegressor(n_jobs=-1, random_state=15)"
      ]
     },
     "execution_count": 7,
     "metadata": {},
     "output_type": "execute_result"
    }
   ],
   "source": [
    "randForReg = RandomForestRegressor(n_jobs=-1, random_state=randomseed)\n",
    "randForInitialParams = randForReg.get_params()\n",
    "print(pd.DataFrame(randForInitialParams, index=['RandomForestRegressor']).transpose())\n",
    "randForReg.fit(X_train, y_train)"
   ]
  },
  {
   "cell_type": "markdown",
   "metadata": {},
   "source": [
    "#####  TRAIN DECISIONTREEREGRESSOR MODEL"
   ]
  },
  {
   "cell_type": "code",
   "execution_count": 8,
   "metadata": {},
   "outputs": [
    {
     "name": "stdout",
     "output_type": "stream",
     "text": [
      "                         DecisionTreeRegressor\n",
      "ccp_alpha                                  0.0\n",
      "criterion                        squared_error\n",
      "max_depth                                 None\n",
      "max_features                              None\n",
      "max_leaf_nodes                            None\n",
      "min_impurity_decrease                      0.0\n",
      "min_samples_leaf                             1\n",
      "min_samples_split                            2\n",
      "min_weight_fraction_leaf                   0.0\n",
      "random_state                                15\n",
      "splitter                                  best\n"
     ]
    },
    {
     "data": {
      "text/plain": [
       "DecisionTreeRegressor(random_state=15)"
      ]
     },
     "execution_count": 8,
     "metadata": {},
     "output_type": "execute_result"
    }
   ],
   "source": [
    "decTreeReg = DecisionTreeRegressor(random_state=randomseed)\n",
    "decTreeInitialParams = decTreeReg.get_params()\n",
    "print(pd.DataFrame(decTreeInitialParams, index=['DecisionTreeRegressor']).transpose())\n",
    "decTreeReg.fit(X_train, y_train)"
   ]
  },
  {
   "cell_type": "markdown",
   "metadata": {},
   "source": [
    "##### INITIALISE MODELS AND CONDUCT INITIAL TEST"
   ]
  },
  {
   "cell_type": "code",
   "execution_count": 9,
   "metadata": {},
   "outputs": [
    {
     "name": "stdout",
     "output_type": "stream",
     "text": [
      "Testing RandomForestRegressor Model...\n",
      "Testing DecisionTreeRegressor Model...\n"
     ]
    }
   ],
   "source": [
    "initial_models = {'RandomForestRegressor': randForReg,\n",
    "                  'DecisionTreeRegressor': decTreeReg}\n",
    "\n",
    "def evaluate_models(models, xtest, ytest):\n",
    "    mean_abs_err = {}\n",
    "    med_abs_err = {}\n",
    "    root_mean_sqr_err = {}\n",
    "    mean_abs_perc_err = {}\n",
    "    mean_sqr_log_err = {}\n",
    "    r2_scr = {}\n",
    "\n",
    "    for name, model in models.items():\n",
    "        print(f'Testing {name} Model...')\n",
    "        ypred = model.predict(xtest)\n",
    "\n",
    "        mean_abs_err[name] = mean_absolute_error(ytest, ypred)\n",
    "        med_abs_err[name] = median_absolute_error(ytest, ypred)\n",
    "        root_mean_sqr_err[name] = (mean_squared_error(ytest, ypred)) ** 0.5\n",
    "        mean_abs_perc_err[name] = mean_absolute_percentage_error(ytest, ypred)\n",
    "        mean_sqr_log_err[name] = mean_squared_log_error(ytest, ypred)\n",
    "        r2_scr[name] = r2_score(ytest, ypred)\n",
    "    \n",
    "    return [mean_abs_err, med_abs_err, root_mean_sqr_err, mean_abs_perc_err, mean_sqr_log_err, r2_scr]\n",
    "\n",
    "initial_results = evaluate_models(initial_models, X_valid, y_valid)"
   ]
  },
  {
   "cell_type": "markdown",
   "metadata": {},
   "source": [
    "##### VISUALISE AND COMPARE INITIAL TEST RESULTS"
   ]
  },
  {
   "cell_type": "code",
   "execution_count": 10,
   "metadata": {},
   "outputs": [
    {
     "name": "stdout",
     "output_type": "stream",
     "text": [
      "Initial Test Results\n",
      "                                RandomForestRegressor  DecisionTreeRegressor\n",
      "Mean Absolute Error                      41616.314345           47688.017751\n",
      "Median Absolute Error                    32624.220000           35000.000000\n",
      "Root Mean Squared Error                  57364.057141           68666.224311\n",
      "Mean Absolute Percentage Error               0.078719               0.091499\n",
      "Mean Squared Log Error                       0.011486               0.017291\n",
      "R2 Score                                     0.890195               0.842664\n"
     ]
    },
    {
     "data": {
      "image/png": "[encoded data removed]",
      "text/plain": [
       "<Figure size 1440x576 with 1 Axes>"
      ]
     },
     "metadata": {
      "needs_background": "light"
     },
     "output_type": "display_data"
    }
   ],
   "source": [
    "def visualise_results(results):\n",
    "    results = pd.DataFrame(results, index=['Mean Absolute Error', 'Median Absolute Error', 'Root Mean Squared Error', 'Mean Absolute Percentage Error', 'Mean Squared Log Error', 'R2 Score'])\n",
    "    print(results)\n",
    "    error_results_bar = results[:3].plot.bar(figsize=(20, 8), xlabel='Evaluation Metric', ylabel='Error Value', title='Model Results')\n",
    "    error_results_bar.legend(title='Model Type', bbox_to_anchor=(1.01, 1));\n",
    "\n",
    "print('Initial Test Results')\n",
    "visualise_results(initial_results)"
   ]
  },
  {
   "cell_type": "markdown",
   "metadata": {},
   "source": [
    "## MODEL TUNING AND IMPROVEMENT"
   ]
  },
  {
   "cell_type": "markdown",
   "metadata": {},
   "source": [
    "##### TUNE AND TRAIN RANDOMFORESTREGRESSOR\n",
    "TESTED HYPERPARAMETERS:\n",
    "- 'n_estimators': [100, 200, 300],\n",
    "- 'max_features': ['auto', 'sqrt'],\n",
    "- 'max_depth': [39, 44, 50],\n",
    "- 'min_samples_split': [2, 3, 4],\n",
    "- 'min_samples_leaf': [1, 3, 5],\n",
    "- 'bootstrap': [True, False]"
   ]
  },
  {
   "cell_type": "code",
   "execution_count": 11,
   "metadata": {},
   "outputs": [
    {
     "name": "stdout",
     "output_type": "stream",
     "text": [
      "Fitting 5 folds for each of 1 candidates, totalling 5 fits\n",
      "[CV] END bootstrap=False, max_depth=44, max_features=sqrt, min_samples_leaf=1, min_samples_split=2, n_estimators=300; total time=  12.3s\n",
      "[CV] END bootstrap=False, max_depth=44, max_features=sqrt, min_samples_leaf=1, min_samples_split=2, n_estimators=300; total time=   8.5s\n",
      "[CV] END bootstrap=False, max_depth=44, max_features=sqrt, min_samples_leaf=1, min_samples_split=2, n_estimators=300; total time=   8.5s\n",
      "[CV] END bootstrap=False, max_depth=44, max_features=sqrt, min_samples_leaf=1, min_samples_split=2, n_estimators=300; total time=   8.6s\n",
      "[CV] END bootstrap=False, max_depth=44, max_features=sqrt, min_samples_leaf=1, min_samples_split=2, n_estimators=300; total time=   8.4s\n"
     ]
    },
    {
     "data": {
      "text/plain": [
       "GridSearchCV(cv=5, estimator=RandomForestRegressor(n_jobs=-1, random_state=15),\n",
       "             param_grid={'bootstrap': [False], 'max_depth': [44],\n",
       "                         'max_features': ['sqrt'], 'min_samples_leaf': [1],\n",
       "                         'min_samples_split': [2], 'n_estimators': [300]},\n",
       "             verbose=2)"
      ]
     },
     "execution_count": 11,
     "metadata": {},
     "output_type": "execute_result"
    }
   ],
   "source": [
    "gs_randForest_grid = {'n_estimators': [300],\n",
    "                      'max_features': ['sqrt'],\n",
    "                      'max_depth': [44],\n",
    "                      'min_samples_split': [2],\n",
    "                      'min_samples_leaf': [1],\n",
    "                      'bootstrap': [False]}\n",
    "\n",
    "gs_randForest = GridSearchCV(estimator=initial_models['RandomForestRegressor'],\n",
    "                             param_grid=gs_randForest_grid,\n",
    "                             cv=5,\n",
    "                             verbose=2)\n",
    "gs_randForest.fit(X_train, y_train)"
   ]
  },
  {
   "cell_type": "markdown",
   "metadata": {},
   "source": [
    "##### SHOW BEST PARAMETERS FOR RANDOMFORESTREGRESSOR MODEL"
   ]
  },
  {
   "cell_type": "code",
   "execution_count": 12,
   "metadata": {},
   "outputs": [
    {
     "name": "stdout",
     "output_type": "stream",
     "text": [
      "                  RandomForestRegressor\n",
      "bootstrap                         False\n",
      "max_depth                            44\n",
      "max_features                       sqrt\n",
      "min_samples_leaf                      1\n",
      "min_samples_split                     2\n",
      "n_estimators                        300\n"
     ]
    }
   ],
   "source": [
    "randForBestParams = gs_randForest.best_params_\n",
    "print(pd.DataFrame(randForBestParams, index=['RandomForestRegressor']).transpose())"
   ]
  },
  {
   "cell_type": "markdown",
   "metadata": {},
   "source": [
    "##### TUNE AND TRAIN DECISIONTREEREGRESSOR\n",
    "\n",
    "TESTED HYPERPARAMETERS:\n",
    "- 'splitter': ['best', 'random'],\n",
    "- 'max_depth' : [None, 1, 3, 5],\n",
    "- 'min_samples_leaf': [1, 3, 5, 7],\n",
    "- 'min_weight_fraction_leaf': [0, 0.5, 1, 3],\n",
    "- 'max_features': ['auto', 'sqrt'],\n",
    "- 'max_leaf_nodes': [None, 10, 40, 80]\n"
   ]
  },
  {
   "cell_type": "code",
   "execution_count": 13,
   "metadata": {},
   "outputs": [
    {
     "name": "stdout",
     "output_type": "stream",
     "text": [
      "Fitting 5 folds for each of 1 candidates, totalling 5 fits\n",
      "[CV] END max_depth=None, max_features=auto, max_leaf_nodes=None, min_samples_leaf=3, min_weight_fraction_leaf=0, splitter=best; total time=   0.4s\n",
      "[CV] END max_depth=None, max_features=auto, max_leaf_nodes=None, min_samples_leaf=3, min_weight_fraction_leaf=0, splitter=best; total time=   0.4s\n",
      "[CV] END max_depth=None, max_features=auto, max_leaf_nodes=None, min_samples_leaf=3, min_weight_fraction_leaf=0, splitter=best; total time=   0.4s\n",
      "[CV] END max_depth=None, max_features=auto, max_leaf_nodes=None, min_samples_leaf=3, min_weight_fraction_leaf=0, splitter=best; total time=   0.4s\n",
      "[CV] END max_depth=None, max_features=auto, max_leaf_nodes=None, min_samples_leaf=3, min_weight_fraction_leaf=0, splitter=best; total time=   0.3s\n"
     ]
    },
    {
     "data": {
      "text/plain": [
       "GridSearchCV(cv=5, estimator=DecisionTreeRegressor(random_state=15),\n",
       "             param_grid={'max_depth': [None], 'max_features': ['auto'],\n",
       "                         'max_leaf_nodes': [None], 'min_samples_leaf': [3],\n",
       "                         'min_weight_fraction_leaf': [0],\n",
       "                         'splitter': ['best']},\n",
       "             verbose=2)"
      ]
     },
     "execution_count": 13,
     "metadata": {},
     "output_type": "execute_result"
    }
   ],
   "source": [
    "gs_decTreeReg_grid={'splitter': ['best'],\n",
    "                    'max_depth' : [None],\n",
    "                    'min_samples_leaf': [3],\n",
    "                    'min_weight_fraction_leaf': [0],\n",
    "                    'max_features': ['auto'],\n",
    "                    'max_leaf_nodes': [None]}\n",
    "\n",
    "gs_decTreeReg = GridSearchCV(estimator=initial_models['DecisionTreeRegressor'],\n",
    "                             param_grid=gs_decTreeReg_grid,\n",
    "                             cv=5,\n",
    "                             verbose=2)\n",
    "gs_decTreeReg.fit(X_train, y_train)"
   ]
  },
  {
   "cell_type": "markdown",
   "metadata": {},
   "source": [
    "##### SHOW BEST PARAMETERS FOR DECISIONTREEREGRESSOR"
   ]
  },
  {
   "cell_type": "code",
   "execution_count": 14,
   "metadata": {},
   "outputs": [
    {
     "name": "stdout",
     "output_type": "stream",
     "text": [
      "                         DecisionTreeRegressor\n",
      "max_depth                                 None\n",
      "max_features                              auto\n",
      "max_leaf_nodes                            None\n",
      "min_samples_leaf                             3\n",
      "min_weight_fraction_leaf                     0\n",
      "splitter                                  best\n"
     ]
    }
   ],
   "source": [
    "decTreeBestParams = gs_decTreeReg.best_params_\n",
    "print(pd.DataFrame(decTreeBestParams, index=['DecisionTreeRegressor']).transpose())"
   ]
  },
  {
   "cell_type": "markdown",
   "metadata": {},
   "source": [
    "##### INITIALISE AND TEST TUNED MODELS"
   ]
  },
  {
   "cell_type": "code",
   "execution_count": 15,
   "metadata": {},
   "outputs": [
    {
     "name": "stdout",
     "output_type": "stream",
     "text": [
      "Testing RandomForestRegressor Model...\n",
      "Testing DecisionTreeRegressor Model...\n"
     ]
    }
   ],
   "source": [
    "tuned_models = {'RandomForestRegressor': gs_randForest,\n",
    "                'DecisionTreeRegressor': gs_decTreeReg}\n",
    "\n",
    "tuned_results = evaluate_models(tuned_models, X_valid, y_valid)"
   ]
  },
  {
   "cell_type": "markdown",
   "metadata": {},
   "source": [
    "##### VISUALISE TUNED MODEL RESULTS"
   ]
  },
  {
   "cell_type": "code",
   "execution_count": 16,
   "metadata": {},
   "outputs": [
    {
     "name": "stdout",
     "output_type": "stream",
     "text": [
      "Tuned Test Results\n",
      "                                RandomForestRegressor  DecisionTreeRegressor\n",
      "Mean Absolute Error                      40077.555218           46815.537533\n",
      "Median Absolute Error                    31965.786667           35811.200000\n",
      "Root Mean Squared Error                  53876.099382           66122.273029\n",
      "Mean Absolute Percentage Error               0.075616               0.089458\n",
      "Mean Squared Log Error                       0.010223               0.015714\n",
      "R2 Score                                     0.903142               0.854106\n"
     ]
    },
    {
     "data": {
      "image/png": "[encoded data removed]",
      "text/plain": [
       "<Figure size 1440x576 with 1 Axes>"
      ]
     },
     "metadata": {
      "needs_background": "light"
     },
     "output_type": "display_data"
    }
   ],
   "source": [
    "print('Tuned Test Results')\n",
    "visualise_results(tuned_results)"
   ]
  },
  {
   "cell_type": "markdown",
   "metadata": {},
   "source": [
    "## MODEL EVALUATION"
   ]
  },
  {
   "cell_type": "markdown",
   "metadata": {},
   "source": [
    "##### FINAL MODEL TEST"
   ]
  },
  {
   "cell_type": "code",
   "execution_count": 17,
   "metadata": {},
   "outputs": [
    {
     "name": "stdout",
     "output_type": "stream",
     "text": [
      "Testing RandomForestRegressor Model...\n",
      "Testing DecisionTreeRegressor Model...\n",
      "Final Results\n",
      "                                RandomForestRegressor  DecisionTreeRegressor\n",
      "Mean Absolute Error                      55196.202937           60239.159234\n",
      "Median Absolute Error                    49293.520000           51983.200000\n",
      "Root Mean Squared Error                  68862.444136           77072.609408\n",
      "Mean Absolute Percentage Error               0.106103               0.116055\n",
      "Mean Squared Log Error                       0.018374               0.023775\n",
      "R2 Score                                     0.798326               0.747370\n"
     ]
    },
    {
     "data": {
      "image/png": "[encoded data removed]",
      "text/plain": [
       "<Figure size 1440x576 with 1 Axes>"
      ]
     },
     "metadata": {
      "needs_background": "light"
     },
     "output_type": "display_data"
    }
   ],
   "source": [
    "final_model = {'RandomForestRegressor': gs_randForest,\n",
    "               'DecisionTreeRegressor': gs_decTreeReg}\n",
    "final_results = evaluate_models(final_model, X_test, y_test)\n",
    "print('Final Results')\n",
    "visualise_results(final_results)"
   ]
  },
  {
   "cell_type": "markdown",
   "metadata": {},
   "source": [
    "##### FEATURE IMPORTANCE"
   ]
  },
  {
   "cell_type": "code",
   "execution_count": 18,
   "metadata": {},
   "outputs": [
    {
     "data": {
      "text/html": [
       "<div>\n",
       "<style scoped>\n",
       "    .dataframe tbody tr th:only-of-type {\n",
       "        vertical-align: middle;\n",
       "    }\n",
       "\n",
       "    .dataframe tbody tr th {\n",
       "        vertical-align: top;\n",
       "    }\n",
       "\n",
       "    .dataframe thead th {\n",
       "        text-align: right;\n",
       "    }\n",
       "</style>\n",
       "<table border=\"1\" class=\"dataframe\">\n",
       "  <thead>\n",
       "    <tr style=\"text-align: right;\">\n",
       "      <th></th>\n",
       "      <th>RandomForestRegressor</th>\n",
       "      <th>DecisionTreeRegressor</th>\n",
       "    </tr>\n",
       "  </thead>\n",
       "  <tbody>\n",
       "    <tr>\n",
       "      <th>month</th>\n",
       "      <td>0.009377</td>\n",
       "      <td>0.009207</td>\n",
       "    </tr>\n",
       "    <tr>\n",
       "      <th>remaining_lease</th>\n",
       "      <td>0.013827</td>\n",
       "      <td>0.009692</td>\n",
       "    </tr>\n",
       "    <tr>\n",
       "      <th>flat_type</th>\n",
       "      <td>0.015408</td>\n",
       "      <td>0.010799</td>\n",
       "    </tr>\n",
       "    <tr>\n",
       "      <th>block</th>\n",
       "      <td>0.043452</td>\n",
       "      <td>0.045753</td>\n",
       "    </tr>\n",
       "    <tr>\n",
       "      <th>flat_model</th>\n",
       "      <td>0.045026</td>\n",
       "      <td>0.048501</td>\n",
       "    </tr>\n",
       "    <tr>\n",
       "      <th>street_name</th>\n",
       "      <td>0.062198</td>\n",
       "      <td>0.057353</td>\n",
       "    </tr>\n",
       "    <tr>\n",
       "      <th>lease_commence_date</th>\n",
       "      <td>0.097493</td>\n",
       "      <td>0.098226</td>\n",
       "    </tr>\n",
       "    <tr>\n",
       "      <th>storey_range</th>\n",
       "      <td>0.122318</td>\n",
       "      <td>0.123362</td>\n",
       "    </tr>\n",
       "    <tr>\n",
       "      <th>town</th>\n",
       "      <td>0.144235</td>\n",
       "      <td>0.146892</td>\n",
       "    </tr>\n",
       "    <tr>\n",
       "      <th>floor_area_sqm</th>\n",
       "      <td>0.446666</td>\n",
       "      <td>0.450215</td>\n",
       "    </tr>\n",
       "  </tbody>\n",
       "</table>\n",
       "</div>"
      ],
      "text/plain": [
       "                     RandomForestRegressor  DecisionTreeRegressor\n",
       "month                             0.009377               0.009207\n",
       "remaining_lease                   0.013827               0.009692\n",
       "flat_type                         0.015408               0.010799\n",
       "block                             0.043452               0.045753\n",
       "flat_model                        0.045026               0.048501\n",
       "street_name                       0.062198               0.057353\n",
       "lease_commence_date               0.097493               0.098226\n",
       "storey_range                      0.122318               0.123362\n",
       "town                              0.144235               0.146892\n",
       "floor_area_sqm                    0.446666               0.450215"
      ]
     },
     "execution_count": 18,
     "metadata": {},
     "output_type": "execute_result"
    },
    {
     "data": {
      "image/png": "[encoded data removed]",
      "text/plain": [
       "<Figure size 1440x576 with 1 Axes>"
      ]
     },
     "metadata": {
      "needs_background": "light"
     },
     "output_type": "display_data"
    }
   ],
   "source": [
    "featImptData = {'RandomForestRegressor': initial_models['RandomForestRegressor'].feature_importances_,\n",
    "                'DecisionTreeRegressor': initial_models['DecisionTreeRegressor'].feature_importances_}\n",
    "featImptFig, featImptAx = plt.subplots(figsize=(20, 8))\n",
    "featImpt = pd.DataFrame(featImptData, index=list(X_train.columns)).sort_values('RandomForestRegressor')\n",
    "featImpt.plot.barh(ax=featImptAx)\n",
    "featImptAx.set(xlabel='Feature Importance', ylabel='Data Feature', title='Important Features of FlatPrices Data using RandomForestRegressor');\n",
    "featImpt"
   ]
  },
  {
   "cell_type": "markdown",
   "metadata": {},
   "source": [
    "## SAVE AND LOAD MODEL\n",
    "- RANDOMFORESTREGRESSOR MODEL WILL BE USED SINCE IT OUTPERFORMS DECISIONTREEREGRESSOR MODEL AFTER TUNING AND FINAL EVALUATION"
   ]
  },
  {
   "cell_type": "markdown",
   "metadata": {},
   "source": [
    "##### SAVE MODEL"
   ]
  },
  {
   "cell_type": "code",
   "execution_count": 19,
   "metadata": {},
   "outputs": [
    {
     "data": {
      "text/plain": [
       "['FlatPricesModel.joblib']"
      ]
     },
     "execution_count": 19,
     "metadata": {},
     "output_type": "execute_result"
    }
   ],
   "source": [
    "dump(gs_randForest, filename='FlatPricesModel.joblib')"
   ]
  },
  {
   "cell_type": "markdown",
   "metadata": {},
   "source": [
    "##### LOAD MODEL AND ENSURE SUCCESSFUL LOADING OF MODEL"
   ]
  },
  {
   "cell_type": "code",
   "execution_count": 20,
   "metadata": {},
   "outputs": [
    {
     "name": "stdout",
     "output_type": "stream",
     "text": [
      "Testing FlatPricesModel Model...\n",
      "                                FlatPricesModel\n",
      "Mean Absolute Error                55196.202937\n",
      "Median Absolute Error              49293.520000\n",
      "Root Mean Squared Error            68862.444136\n",
      "Mean Absolute Percentage Error         0.106103\n",
      "Mean Squared Log Error                 0.018374\n",
      "R2 Score                               0.798326\n"
     ]
    },
    {
     "data": {
      "image/png": "[encoded data removed]",
      "text/plain": [
       "<Figure size 1440x576 with 1 Axes>"
      ]
     },
     "metadata": {
      "needs_background": "light"
     },
     "output_type": "display_data"
    }
   ],
   "source": [
    "flatPricesModel = load(filename='FlatPricesModel.joblib')\n",
    "loaded_model = {'FlatPricesModel': flatPricesModel}\n",
    "loadedModelResults = evaluate_models(loaded_model, X_test, y_test)\n",
    "visualise_results(loadedModelResults)"
   ]
  }
 ],
 "metadata": {
  "interpreter": {
   "hash": "4e06b8d4eff00d7d2df7032b1ea559d9e0034f5fd556769de87b5beeef73753e"
  },
  "kernelspec": {
   "display_name": "Python 3.9.2 ('venv': venv)",
   "language": "python",
   "name": "python3"
  },
  "language_info": {
   "codemirror_mode": {
    "name": "ipython",
    "version": 3
   },
   "file_extension": ".py",
   "mimetype": "text/x-python",
   "name": "python",
   "nbconvert_exporter": "python",
   "pygments_lexer": "ipython3",
   "version": "3.9.2"
  },
  "orig_nbformat": 4
 },
 "nbformat": 4,
 "nbformat_minor": 2
}
